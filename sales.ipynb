{
  "nbformat": 4,
  "nbformat_minor": 0,
  "metadata": {
    "colab": {
      "name": "sales.ipynb",
      "provenance": [],
      "authorship_tag": "ABX9TyNycCm6xhhe+xyaeM4SahyR",
      "include_colab_link": true
    },
    "kernelspec": {
      "name": "python3",
      "display_name": "Python 3"
    },
    "language_info": {
      "name": "python"
    }
  },
  "cells": [
    {
      "cell_type": "markdown",
      "metadata": {
        "id": "view-in-github",
        "colab_type": "text"
      },
      "source": [
        "<a href=\"https://colab.research.google.com/github/CarolineGuothesweetie/In-class-Exercises/blob/main/sales.ipynb\" target=\"_parent\"><img src=\"https://colab.research.google.com/assets/colab-badge.svg\" alt=\"Open In Colab\"/></a>"
      ]
    },
    {
      "cell_type": "markdown",
      "metadata": {
        "id": "P3xJJ4TiMXUK"
      },
      "source": [
        "#### Team No.9\n",
        "#### Yipeng(Caroline) Guo - ypguo@bu.edu\n",
        "#### Menghe Liu - mliu926@bu.edu\n",
        "#### Ta-Wei Wang - davidtww@bu.edu\n",
        "#### Ziyue Zhou - zhou971@bu.edu"
      ]
    },
    {
      "cell_type": "code",
      "metadata": {
        "colab": {
          "base_uri": "https://localhost:8080/"
        },
        "id": "EQjuKqUqMD5d",
        "outputId": "1bbae5af-b7da-4ae5-a0e2-6e57e52b668a"
      },
      "source": [
        "! pip install faker"
      ],
      "execution_count": 1,
      "outputs": [
        {
          "output_type": "stream",
          "text": [
            "Collecting faker\n",
            "  Downloading Faker-8.10.3-py3-none-any.whl (1.2 MB)\n",
            "\u001b[?25l\r\u001b[K     |▎                               | 10 kB 25.0 MB/s eta 0:00:01\r\u001b[K     |▋                               | 20 kB 31.2 MB/s eta 0:00:01\r\u001b[K     |▉                               | 30 kB 27.5 MB/s eta 0:00:01\r\u001b[K     |█▏                              | 40 kB 20.8 MB/s eta 0:00:01\r\u001b[K     |█▍                              | 51 kB 9.6 MB/s eta 0:00:01\r\u001b[K     |█▊                              | 61 kB 10.4 MB/s eta 0:00:01\r\u001b[K     |██                              | 71 kB 9.7 MB/s eta 0:00:01\r\u001b[K     |██▎                             | 81 kB 9.5 MB/s eta 0:00:01\r\u001b[K     |██▌                             | 92 kB 10.0 MB/s eta 0:00:01\r\u001b[K     |██▉                             | 102 kB 8.9 MB/s eta 0:00:01\r\u001b[K     |███                             | 112 kB 8.9 MB/s eta 0:00:01\r\u001b[K     |███▍                            | 122 kB 8.9 MB/s eta 0:00:01\r\u001b[K     |███▋                            | 133 kB 8.9 MB/s eta 0:00:01\r\u001b[K     |████                            | 143 kB 8.9 MB/s eta 0:00:01\r\u001b[K     |████▏                           | 153 kB 8.9 MB/s eta 0:00:01\r\u001b[K     |████▌                           | 163 kB 8.9 MB/s eta 0:00:01\r\u001b[K     |████▊                           | 174 kB 8.9 MB/s eta 0:00:01\r\u001b[K     |█████                           | 184 kB 8.9 MB/s eta 0:00:01\r\u001b[K     |█████▎                          | 194 kB 8.9 MB/s eta 0:00:01\r\u001b[K     |█████▋                          | 204 kB 8.9 MB/s eta 0:00:01\r\u001b[K     |█████▉                          | 215 kB 8.9 MB/s eta 0:00:01\r\u001b[K     |██████▏                         | 225 kB 8.9 MB/s eta 0:00:01\r\u001b[K     |██████▍                         | 235 kB 8.9 MB/s eta 0:00:01\r\u001b[K     |██████▊                         | 245 kB 8.9 MB/s eta 0:00:01\r\u001b[K     |███████                         | 256 kB 8.9 MB/s eta 0:00:01\r\u001b[K     |███████▎                        | 266 kB 8.9 MB/s eta 0:00:01\r\u001b[K     |███████▌                        | 276 kB 8.9 MB/s eta 0:00:01\r\u001b[K     |███████▉                        | 286 kB 8.9 MB/s eta 0:00:01\r\u001b[K     |████████                        | 296 kB 8.9 MB/s eta 0:00:01\r\u001b[K     |████████▍                       | 307 kB 8.9 MB/s eta 0:00:01\r\u001b[K     |████████▊                       | 317 kB 8.9 MB/s eta 0:00:01\r\u001b[K     |█████████                       | 327 kB 8.9 MB/s eta 0:00:01\r\u001b[K     |█████████▎                      | 337 kB 8.9 MB/s eta 0:00:01\r\u001b[K     |█████████▌                      | 348 kB 8.9 MB/s eta 0:00:01\r\u001b[K     |█████████▉                      | 358 kB 8.9 MB/s eta 0:00:01\r\u001b[K     |██████████                      | 368 kB 8.9 MB/s eta 0:00:01\r\u001b[K     |██████████▍                     | 378 kB 8.9 MB/s eta 0:00:01\r\u001b[K     |██████████▋                     | 389 kB 8.9 MB/s eta 0:00:01\r\u001b[K     |███████████                     | 399 kB 8.9 MB/s eta 0:00:01\r\u001b[K     |███████████▏                    | 409 kB 8.9 MB/s eta 0:00:01\r\u001b[K     |███████████▌                    | 419 kB 8.9 MB/s eta 0:00:01\r\u001b[K     |███████████▊                    | 430 kB 8.9 MB/s eta 0:00:01\r\u001b[K     |████████████                    | 440 kB 8.9 MB/s eta 0:00:01\r\u001b[K     |████████████▎                   | 450 kB 8.9 MB/s eta 0:00:01\r\u001b[K     |████████████▋                   | 460 kB 8.9 MB/s eta 0:00:01\r\u001b[K     |████████████▉                   | 471 kB 8.9 MB/s eta 0:00:01\r\u001b[K     |█████████████▏                  | 481 kB 8.9 MB/s eta 0:00:01\r\u001b[K     |█████████████▍                  | 491 kB 8.9 MB/s eta 0:00:01\r\u001b[K     |█████████████▊                  | 501 kB 8.9 MB/s eta 0:00:01\r\u001b[K     |██████████████                  | 512 kB 8.9 MB/s eta 0:00:01\r\u001b[K     |██████████████▎                 | 522 kB 8.9 MB/s eta 0:00:01\r\u001b[K     |██████████████▌                 | 532 kB 8.9 MB/s eta 0:00:01\r\u001b[K     |██████████████▉                 | 542 kB 8.9 MB/s eta 0:00:01\r\u001b[K     |███████████████                 | 552 kB 8.9 MB/s eta 0:00:01\r\u001b[K     |███████████████▍                | 563 kB 8.9 MB/s eta 0:00:01\r\u001b[K     |███████████████▋                | 573 kB 8.9 MB/s eta 0:00:01\r\u001b[K     |████████████████                | 583 kB 8.9 MB/s eta 0:00:01\r\u001b[K     |████████████████▏               | 593 kB 8.9 MB/s eta 0:00:01\r\u001b[K     |████████████████▌               | 604 kB 8.9 MB/s eta 0:00:01\r\u001b[K     |████████████████▊               | 614 kB 8.9 MB/s eta 0:00:01\r\u001b[K     |█████████████████               | 624 kB 8.9 MB/s eta 0:00:01\r\u001b[K     |█████████████████▍              | 634 kB 8.9 MB/s eta 0:00:01\r\u001b[K     |█████████████████▋              | 645 kB 8.9 MB/s eta 0:00:01\r\u001b[K     |██████████████████              | 655 kB 8.9 MB/s eta 0:00:01\r\u001b[K     |██████████████████▏             | 665 kB 8.9 MB/s eta 0:00:01\r\u001b[K     |██████████████████▌             | 675 kB 8.9 MB/s eta 0:00:01\r\u001b[K     |██████████████████▊             | 686 kB 8.9 MB/s eta 0:00:01\r\u001b[K     |███████████████████             | 696 kB 8.9 MB/s eta 0:00:01\r\u001b[K     |███████████████████▎            | 706 kB 8.9 MB/s eta 0:00:01\r\u001b[K     |███████████████████▋            | 716 kB 8.9 MB/s eta 0:00:01\r\u001b[K     |███████████████████▉            | 727 kB 8.9 MB/s eta 0:00:01\r\u001b[K     |████████████████████▏           | 737 kB 8.9 MB/s eta 0:00:01\r\u001b[K     |████████████████████▍           | 747 kB 8.9 MB/s eta 0:00:01\r\u001b[K     |████████████████████▊           | 757 kB 8.9 MB/s eta 0:00:01\r\u001b[K     |█████████████████████           | 768 kB 8.9 MB/s eta 0:00:01\r\u001b[K     |█████████████████████▎          | 778 kB 8.9 MB/s eta 0:00:01\r\u001b[K     |█████████████████████▌          | 788 kB 8.9 MB/s eta 0:00:01\r\u001b[K     |█████████████████████▉          | 798 kB 8.9 MB/s eta 0:00:01\r\u001b[K     |██████████████████████          | 808 kB 8.9 MB/s eta 0:00:01\r\u001b[K     |██████████████████████▍         | 819 kB 8.9 MB/s eta 0:00:01\r\u001b[K     |██████████████████████▋         | 829 kB 8.9 MB/s eta 0:00:01\r\u001b[K     |███████████████████████         | 839 kB 8.9 MB/s eta 0:00:01\r\u001b[K     |███████████████████████▏        | 849 kB 8.9 MB/s eta 0:00:01\r\u001b[K     |███████████████████████▌        | 860 kB 8.9 MB/s eta 0:00:01\r\u001b[K     |███████████████████████▊        | 870 kB 8.9 MB/s eta 0:00:01\r\u001b[K     |████████████████████████        | 880 kB 8.9 MB/s eta 0:00:01\r\u001b[K     |████████████████████████▎       | 890 kB 8.9 MB/s eta 0:00:01\r\u001b[K     |████████████████████████▋       | 901 kB 8.9 MB/s eta 0:00:01\r\u001b[K     |████████████████████████▉       | 911 kB 8.9 MB/s eta 0:00:01\r\u001b[K     |█████████████████████████▏      | 921 kB 8.9 MB/s eta 0:00:01\r\u001b[K     |█████████████████████████▍      | 931 kB 8.9 MB/s eta 0:00:01\r\u001b[K     |█████████████████████████▊      | 942 kB 8.9 MB/s eta 0:00:01\r\u001b[K     |██████████████████████████      | 952 kB 8.9 MB/s eta 0:00:01\r\u001b[K     |██████████████████████████▎     | 962 kB 8.9 MB/s eta 0:00:01\r\u001b[K     |██████████████████████████▋     | 972 kB 8.9 MB/s eta 0:00:01\r\u001b[K     |██████████████████████████▉     | 983 kB 8.9 MB/s eta 0:00:01\r\u001b[K     |███████████████████████████▏    | 993 kB 8.9 MB/s eta 0:00:01\r\u001b[K     |███████████████████████████▍    | 1.0 MB 8.9 MB/s eta 0:00:01\r\u001b[K     |███████████████████████████▊    | 1.0 MB 8.9 MB/s eta 0:00:01\r\u001b[K     |████████████████████████████    | 1.0 MB 8.9 MB/s eta 0:00:01\r\u001b[K     |████████████████████████████▎   | 1.0 MB 8.9 MB/s eta 0:00:01\r\u001b[K     |████████████████████████████▌   | 1.0 MB 8.9 MB/s eta 0:00:01\r\u001b[K     |████████████████████████████▉   | 1.1 MB 8.9 MB/s eta 0:00:01\r\u001b[K     |█████████████████████████████   | 1.1 MB 8.9 MB/s eta 0:00:01\r\u001b[K     |█████████████████████████████▍  | 1.1 MB 8.9 MB/s eta 0:00:01\r\u001b[K     |█████████████████████████████▋  | 1.1 MB 8.9 MB/s eta 0:00:01\r\u001b[K     |██████████████████████████████  | 1.1 MB 8.9 MB/s eta 0:00:01\r\u001b[K     |██████████████████████████████▏ | 1.1 MB 8.9 MB/s eta 0:00:01\r\u001b[K     |██████████████████████████████▌ | 1.1 MB 8.9 MB/s eta 0:00:01\r\u001b[K     |██████████████████████████████▊ | 1.1 MB 8.9 MB/s eta 0:00:01\r\u001b[K     |███████████████████████████████ | 1.1 MB 8.9 MB/s eta 0:00:01\r\u001b[K     |███████████████████████████████▎| 1.1 MB 8.9 MB/s eta 0:00:01\r\u001b[K     |███████████████████████████████▋| 1.2 MB 8.9 MB/s eta 0:00:01\r\u001b[K     |███████████████████████████████▉| 1.2 MB 8.9 MB/s eta 0:00:01\r\u001b[K     |████████████████████████████████| 1.2 MB 8.9 MB/s \n",
            "\u001b[?25hRequirement already satisfied: python-dateutil>=2.4 in /usr/local/lib/python3.7/dist-packages (from faker) (2.8.1)\n",
            "Requirement already satisfied: text-unidecode==1.3 in /usr/local/lib/python3.7/dist-packages (from faker) (1.3)\n",
            "Requirement already satisfied: six>=1.5 in /usr/local/lib/python3.7/dist-packages (from python-dateutil>=2.4->faker) (1.15.0)\n",
            "Installing collected packages: faker\n",
            "Successfully installed faker-8.10.3\n"
          ],
          "name": "stdout"
        }
      ]
    },
    {
      "cell_type": "code",
      "metadata": {
        "id": "Alp8BWP1MMU9"
      },
      "source": [
        "import numpy as np\n",
        "from faker import Faker\n",
        "fake = Faker()\n",
        "import random"
      ],
      "execution_count": 4,
      "outputs": []
    },
    {
      "cell_type": "code",
      "metadata": {
        "colab": {
          "base_uri": "https://localhost:8080/",
          "height": 253
        },
        "id": "YA5W_hHEUmoh",
        "outputId": "0cce8c5f-d339-49a8-b7fb-3f953a920dd5"
      },
      "source": [
        "class Lead():\n",
        "  \"\"\" A sales lead class \"\"\"\n",
        "\n",
        "  def __init__(self):\n",
        "    self.lead_type = str(np.random.choice(['Business', 'Personal', 'Non-Profit'], size=1)[0])\n",
        "    self.phone_number = fake.phone_number()\n",
        "    self.email = fake.email()\n",
        "    self.name = fake.name()\n",
        "    self.status = 'Lead'\n",
        "    self.activities = 0\n",
        "    self.purchases = []\n",
        "    #add list to collect complaints here;\n",
        "    self.complaints = []\n",
        "  \n",
        "  def add_activity(self):\n",
        "    \"\"\"for this method, we want to increment activities by 1\"\"\"\n",
        "    self.activities = self.activities + 1\n",
        "    return (self.activities)\n",
        "  \n",
        "  #define a function collecting sum of the sales:\n",
        "  def sum(self):\n",
        "    return self\n",
        "\n",
        "  def add_purchase(self, amount):\n",
        "    \"\"\"for this method, add a purchase amount to the purchase history\"\"\"\n",
        "    if not isinstance(amount, (int, float)):\n",
        "      print(\"amount needs to be an integer or float\")\n",
        "    else:\n",
        "      self.purchases.append(amount)\n",
        "      if sum(self.purchases) >= 10000:\n",
        "        self.status =  'Platinum Club'\n",
        "    return self\n",
        "\n",
        "\n",
        "  def log_complaints(self,complaints):\n",
        "    self.complaints.append(complaints)\n",
        "    return self\n",
        "\n",
        "\n",
        "  def get_complaints(self, number):\n",
        "      return self.complaints[-number:]\n",
        "\n",
        "\n",
        "  def set_lost(self):\n",
        "      self.status = 'Closed Lost'\n",
        "      del(self.email)\n",
        "      return self\n",
        "\n",
        "\n",
        "# Give it a try to run this code:\n",
        "customer_a = Lead()\n",
        "customer_a.add_purchase(500)\n",
        "customer_a.add_purchase(12000)\n",
        "print(customer_a.status)\n",
        "\n",
        "customer_b = Lead()\n",
        "customer_b.log_complaints('Trashy Dustbins.')\n",
        "customer_b.log_complaints('Ordered brunch @ 11am but not received until afternoon.')\n",
        "customer_b.log_complaints('Noisy clean-up outside.')\n",
        "customer_b.log_complaints('Broken shower all day.')\n",
        "customer_b.log_complaints('NO MORE MAKE_UP')\n",
        "print('get_complaints(3):',customer_b.get_complaints(3))\n",
        "\n",
        "customer_c = Lead()\n",
        "print(customer_c.email)\n",
        "customer_c.set_lost()\n",
        "print(customer_c.email) # ArrtibuteError after run this cell with \"no attribute 'email'\"\""
      ],
      "execution_count": 27,
      "outputs": [
        {
          "output_type": "stream",
          "text": [
            "Platinum Club\n",
            "get_complaints(3): ['Noisy clean-up outside.', 'Broken shower all day.', 'NO MORE MAKE_UP']\n",
            "ruth51@kelley-moses.com\n"
          ],
          "name": "stdout"
        },
        {
          "output_type": "error",
          "ename": "AttributeError",
          "evalue": "ignored",
          "traceback": [
            "\u001b[0;31m---------------------------------------------------------------------------\u001b[0m",
            "\u001b[0;31mAttributeError\u001b[0m                            Traceback (most recent call last)",
            "\u001b[0;32m<ipython-input-27-ee1a10ef0e82>\u001b[0m in \u001b[0;36m<module>\u001b[0;34m()\u001b[0m\n\u001b[1;32m     65\u001b[0m \u001b[0mprint\u001b[0m\u001b[0;34m(\u001b[0m\u001b[0mcustomer_c\u001b[0m\u001b[0;34m.\u001b[0m\u001b[0memail\u001b[0m\u001b[0;34m)\u001b[0m\u001b[0;34m\u001b[0m\u001b[0;34m\u001b[0m\u001b[0m\n\u001b[1;32m     66\u001b[0m \u001b[0mcustomer_c\u001b[0m\u001b[0;34m.\u001b[0m\u001b[0mset_lost\u001b[0m\u001b[0;34m(\u001b[0m\u001b[0;34m)\u001b[0m\u001b[0;34m\u001b[0m\u001b[0;34m\u001b[0m\u001b[0m\n\u001b[0;32m---> 67\u001b[0;31m \u001b[0mprint\u001b[0m\u001b[0;34m(\u001b[0m\u001b[0mcustomer_c\u001b[0m\u001b[0;34m.\u001b[0m\u001b[0memail\u001b[0m\u001b[0;34m)\u001b[0m\u001b[0;34m\u001b[0m\u001b[0;34m\u001b[0m\u001b[0m\n\u001b[0m",
            "\u001b[0;31mAttributeError\u001b[0m: 'Lead' object has no attribute 'email'"
          ]
        }
      ]
    }
  ]
}