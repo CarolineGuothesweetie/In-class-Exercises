{
  "nbformat": 4,
  "nbformat_minor": 0,
  "metadata": {
    "colab": {
      "name": "Exercise1.ipynb",
      "provenance": [],
      "authorship_tag": "ABX9TyNVAcSMXwPiGRSM/vnipBw6",
      "include_colab_link": true
    },
    "kernelspec": {
      "name": "python3",
      "display_name": "Python 3"
    },
    "language_info": {
      "name": "python"
    }
  },
  "cells": [
    {
      "cell_type": "markdown",
      "metadata": {
        "id": "view-in-github",
        "colab_type": "text"
      },
      "source": [
        "<a href=\"https://colab.research.google.com/github/CarolineGuothesweetie/In-class-Exercises/blob/main/Exercise1.ipynb\" target=\"_parent\"><img src=\"https://colab.research.google.com/assets/colab-badge.svg\" alt=\"Open In Colab\"/></a>"
      ]
    },
    {
      "cell_type": "markdown",
      "metadata": {
        "id": "TiBRmcx6WlcP"
      },
      "source": [
        "# Quick Exercise in Breakout Room:\n",
        "\n",
        "Create a dictionary that has the following key value pairs:\n",
        "\n",
        "- `first` which includes your first name\n",
        "- `types` which includes a list of the data structures that we have covered (not data types)\n",
        "- `random` which is 5 randomly selected numbers from 2 to 12 returned as a list of length 5\n",
        "\n",
        "hint:\n",
        "\n",
        "\n",
        "```\n",
        "import random\n",
        "my_rand_list = random.choices(...)\n",
        "```\n"
      ]
    },
    {
      "cell_type": "markdown",
      "metadata": {
        "id": "_53taNS5W2wh"
      },
      "source": [
        "In-class Exercise1"
      ]
    },
    {
      "cell_type": "markdown",
      "metadata": {
        "id": "XARBPpdSXRPT"
      },
      "source": [
        "###### Room 10\n",
        "###### Member 1: Yipeng Guo ypguo@bu.edu\n",
        "###### Member 2: Xiangshan Mu xsmu@bu.edu\n",
        "###### Member 3: Weijia Suo sweijia@bu.edu \n",
        "\n",
        "---\n",
        "\n"
      ]
    },
    {
      "cell_type": "code",
      "metadata": {
        "id": "LmFl3hBSWi6w"
      },
      "source": [
        "import random"
      ],
      "execution_count": 1,
      "outputs": []
    },
    {
      "cell_type": "code",
      "metadata": {
        "id": "33lQvhQTXj7n"
      },
      "source": [
        "my_directory = {'first':'Yipeng',\n",
        "                'types':['list','set','mtuples','dictionary'],\n",
        "                'random_list': random.choices([2,3,4,5,6,7,8,9,10,11,12],k=5)\n",
        "                }"
      ],
      "execution_count": 13,
      "outputs": []
    },
    {
      "cell_type": "code",
      "metadata": {
        "colab": {
          "base_uri": "https://localhost:8080/"
        },
        "id": "w5YYkGcGYSo7",
        "outputId": "bf6abb3c-afcf-4277-e3ba-fde25d10b046"
      },
      "source": [
        "print(my_directory)"
      ],
      "execution_count": 14,
      "outputs": [
        {
          "output_type": "stream",
          "text": [
            "{'first': 'Yipeng', 'types': ['list', 'set', 'mtuples', 'dictionary'], 'random_list': [2, 4, 9, 3, 5]}\n"
          ],
          "name": "stdout"
        }
      ]
    }
  ]
}